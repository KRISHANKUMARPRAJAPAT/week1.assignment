{
 "cells": [
  {
   "cell_type": "markdown",
   "id": "51b2b44b-2ca2-4b4c-8b16-100338b5c380",
   "metadata": {},
   "source": [
    "## Q1. Create one variable containing following type of data:\n",
    "(i) string\n",
    "\n",
    "(ii) list\n",
    "\n",
    "(iii) float\n",
    "\n",
    "(iv) tuple"
   ]
  },
  {
   "cell_type": "code",
   "execution_count": 6,
   "id": "31d45858-3ea3-4c7b-8869-da888e9be939",
   "metadata": {},
   "outputs": [],
   "source": [
    "# Sol : 1\n",
    "\n",
    "#A string variable;\n",
    "my_str = 'Hello, Team Pwskills'\n",
    "\n",
    "# A list variable: \n",
    "my_lst = [1,2,3,4,5,6,7,8,9]\n",
    "\n",
    "# A float variable: \n",
    "my_float = 32.32\n",
    "\n",
    "#A tuple variable : \n",
    "my_tuple = (12,23,34,65,86)"
   ]
  },
  {
   "cell_type": "code",
   "execution_count": null,
   "id": "f86926cb-b8ee-406f-b98a-41c5ceceb9f0",
   "metadata": {},
   "outputs": [],
   "source": []
  },
  {
   "cell_type": "markdown",
   "id": "d95dd659-4fd7-4ceb-9427-bdc80181008c",
   "metadata": {},
   "source": [
    "# Q2. Given are some following variables containing data:\n",
    "(i) var1 = ‘ ‘\n",
    "\n",
    "(ii) var2 = ‘[ DS , ML , Python]’\n",
    "\n",
    "(iii) var3 = [ ‘DS’ , ’ML’ , ‘Python’ ]\n",
    "\n",
    "(iv) var4 = 1.\n",
    "\n",
    "**What will be the data type of the above given variable.**"
   ]
  },
  {
   "cell_type": "markdown",
   "id": "49a3944f-faad-4055-8169-b748b4bc261d",
   "metadata": {},
   "source": [
    "# Sol: 2\n",
    "\n",
    "**(i) var1** is a string with length 0, also known as an empty string.\n",
    "\n",
    "**(ii) var2** is a string that contains a list as a string representation. It is not an actual list, but a string that looks like a list. If we want to use this string as a list, we need to convert it to a list data type using the eval() function or some other method.\n",
    "\n",
    "**(iii) var3** is a list of strings.\n",
    "\n",
    "**(iv) var4** is a float."
   ]
  },
  {
   "cell_type": "code",
   "execution_count": null,
   "id": "b2bd16b9-4379-4857-8be8-be083f698b3c",
   "metadata": {},
   "outputs": [],
   "source": []
  },
  {
   "cell_type": "markdown",
   "id": "ccad4bad-0741-4e24-9229-6bfa8200f578",
   "metadata": {},
   "source": [
    "## Q3. Explain the use of the following operators using an example:\n",
    "(i) /\n",
    "\n",
    "(ii) %\n",
    "\n",
    "(iii) //\n",
    "\n",
    "(iv) **"
   ]
  },
  {
   "cell_type": "markdown",
   "id": "73a5db97-5abd-47fc-a0b6-616bc8e12ccf",
   "metadata": {},
   "source": [
    "# Sol: 3 \n",
    "\n",
    "**(i) /:** This is the division operator, which is used to divide two numbers and return the quotient as a floating-point number. For example, 10 / 3 will return 3.3333333333333335."
   ]
  },
  {
   "cell_type": "code",
   "execution_count": 11,
   "id": "eb8c2c20-36f2-4e57-8e99-55e1594c123e",
   "metadata": {},
   "outputs": [
    {
     "name": "stdout",
     "output_type": "stream",
     "text": [
      "3.3333333333333335\n"
     ]
    }
   ],
   "source": [
    "#division\n",
    "a = 10 \n",
    "b = 3\n",
    "c = a/b\n",
    "print(c)"
   ]
  },
  {
   "cell_type": "markdown",
   "id": "05862de9-9909-4ab5-871b-205ffddb3115",
   "metadata": {},
   "source": [
    "**(ii) %:** This is the modulo operator, which returns the remainder when one number is divided by another. For example, 10 % 3 will return 1, because 10 divided by 3 has a remainder of 1."
   ]
  },
  {
   "cell_type": "code",
   "execution_count": 12,
   "id": "d7674170-5122-4340-9820-dc3444efc8f2",
   "metadata": {},
   "outputs": [
    {
     "name": "stdout",
     "output_type": "stream",
     "text": [
      "1\n"
     ]
    }
   ],
   "source": [
    "#Modulo: \n",
    "x = 10 \n",
    "y = 3 \n",
    "z = x % y\n",
    "print(z)"
   ]
  },
  {
   "cell_type": "markdown",
   "id": "da454201-7a33-442c-8651-e98cc7754238",
   "metadata": {},
   "source": [
    "**(iii) //:** This is the floor division operator, which divides two numbers and returns the result as an integer, rounded down to the nearest whole number. For example, 10 // 3 will return 3."
   ]
  },
  {
   "cell_type": "code",
   "execution_count": 13,
   "id": "b4fbe871-1b6d-47c2-bb5f-67ced9cd6a38",
   "metadata": {},
   "outputs": [
    {
     "name": "stdout",
     "output_type": "stream",
     "text": [
      "3\n"
     ]
    }
   ],
   "source": [
    "#FLoor division operator: \n",
    "a = 10\n",
    "b = 3 \n",
    "c = a//b\n",
    "print(c)"
   ]
  },
  {
   "cell_type": "markdown",
   "id": "92f69518-af31-48fe-b9b0-95cab5369335",
   "metadata": {},
   "source": [
    "**(iv)** **: This is the exponentiation operator, which is used to raise a number to a power. For example, 2 ** 3 will return 8, because 2 raised to the power of 3 is 8."
   ]
  },
  {
   "cell_type": "code",
   "execution_count": 15,
   "id": "29d0a7f0-a8f2-44bd-9057-5d591ef48f88",
   "metadata": {},
   "outputs": [
    {
     "name": "stdout",
     "output_type": "stream",
     "text": [
      "8\n"
     ]
    }
   ],
   "source": [
    "#Exponentiation: \n",
    "a = 2 \n",
    "b = 3 \n",
    "c = a**b\n",
    "print(c)"
   ]
  },
  {
   "cell_type": "code",
   "execution_count": null,
   "id": "eea7f36f-28d2-467b-91eb-8394e51c4a39",
   "metadata": {},
   "outputs": [],
   "source": []
  },
  {
   "cell_type": "markdown",
   "id": "c5dcadb4-901f-4904-aba4-104e68b3cbd6",
   "metadata": {},
   "source": [
    "## Q4. Create a list of length 10 of your choice containing multiple types of data. Using for loop print the element and its data type."
   ]
  },
  {
   "cell_type": "code",
   "execution_count": 17,
   "id": "ecb5da11-a0c8-4da1-b032-360307982103",
   "metadata": {},
   "outputs": [
    {
     "name": "stdout",
     "output_type": "stream",
     "text": [
      "1 <class 'int'>\n",
      "two <class 'str'>\n",
      "3.0 <class 'float'>\n",
      "True <class 'bool'>\n",
      "False <class 'bool'>\n",
      "[4, 5, 6] <class 'list'>\n",
      "(7, 8, 9) <class 'tuple'>\n",
      "{'ten': 10} <class 'dict'>\n",
      "None <class 'NoneType'>\n",
      "pwskills <class 'str'>\n"
     ]
    }
   ],
   "source": [
    "# Sol : 4\n",
    "\n",
    "l = [1, \"two\", 3.0, True, False, [4, 5, 6], (7, 8, 9), {\"ten\": 10}, None, \"pwskills\"]\n",
    "\n",
    "for i in l : \n",
    "    print(i,type(i))"
   ]
  },
  {
   "cell_type": "code",
   "execution_count": null,
   "id": "ebbf679e-eb1b-4cdb-9468-2deff3cde8e0",
   "metadata": {},
   "outputs": [],
   "source": []
  },
  {
   "cell_type": "markdown",
   "id": "083d2b7c-fa79-40d8-8216-1b663390e9ca",
   "metadata": {},
   "source": [
    "## Q5. Using a while loop, verify if the number A is purely divisible by number B and if so then how many times it can be divisible."
   ]
  },
  {
   "cell_type": "code",
   "execution_count": 20,
   "id": "74e51b66-408d-4747-a454-59ae22c7e144",
   "metadata": {},
   "outputs": [
    {
     "name": "stdout",
     "output_type": "stream",
     "text": [
      "84.0 is divisible by 3, 1 times\n"
     ]
    }
   ],
   "source": [
    "# Sol : 5\n",
    "\n",
    "a = 84 \n",
    "b = 3\n",
    "count = 0 \n",
    "\n",
    "while a % b == 0 : \n",
    "    a = a/b\n",
    "    count += 1\n",
    "    \n",
    "if count > 0 : \n",
    "    print(f\"{a * b } is divisible by {b}, {count} times\")\n",
    "    \n",
    "else : \n",
    "    print(f\"{a * b } is not divisible by {b}\")"
   ]
  },
  {
   "cell_type": "code",
   "execution_count": null,
   "id": "85fb2b74-1d32-49f2-8118-645760581781",
   "metadata": {},
   "outputs": [],
   "source": []
  },
  {
   "cell_type": "markdown",
   "id": "33370feb-0c87-42db-9788-9e2cb68dbc87",
   "metadata": {},
   "source": [
    "## Q6. Create a list containing 25 int type data. Using for loop and if-else condition print if the element is divisible by 3 or not."
   ]
  },
  {
   "cell_type": "code",
   "execution_count": 21,
   "id": "e9e7e719-9c24-485a-8277-83ad008e9677",
   "metadata": {},
   "outputs": [
    {
     "name": "stdout",
     "output_type": "stream",
     "text": [
      "1 is not divisible by 3.\n",
      "4 is not divisible by 3.\n",
      "7 is not divisible by 3.\n",
      "10 is not divisible by 3.\n",
      "13 is not divisible by 3.\n",
      "16 is not divisible by 3.\n",
      "19 is not divisible by 3.\n",
      "22 is not divisible by 3.\n",
      "25 is not divisible by 3.\n",
      "28 is not divisible by 3.\n",
      "31 is not divisible by 3.\n",
      "34 is not divisible by 3.\n",
      "37 is not divisible by 3.\n",
      "40 is not divisible by 3.\n",
      "43 is not divisible by 3.\n",
      "46 is not divisible by 3.\n",
      "49 is not divisible by 3.\n",
      "52 is not divisible by 3.\n",
      "55 is not divisible by 3.\n",
      "58 is not divisible by 3.\n",
      "61 is not divisible by 3.\n",
      "64 is not divisible by 3.\n",
      "67 is not divisible by 3.\n",
      "70 is not divisible by 3.\n",
      "73 is not divisible by 3.\n"
     ]
    }
   ],
   "source": [
    "# Sol : 6 \n",
    "\n",
    "l = [1, 4, 7, 10, 13, 16, 19, 22, 25, 28, 31, 34, 37, 40, 43, 46, 49, 52, 55, 58, 61, 64, 67, 70, 73]\n",
    "\n",
    "for i in l : \n",
    "    if i % 3 == 0:\n",
    "        print(f\"{i} is divisible by 3 .\")\n",
    "        \n",
    "    else : \n",
    "        print(f\"{i} is not divisible by 3.\")"
   ]
  },
  {
   "cell_type": "code",
   "execution_count": null,
   "id": "91bdad7d-0e70-4487-950c-1b76dfec9150",
   "metadata": {},
   "outputs": [],
   "source": []
  },
  {
   "cell_type": "markdown",
   "id": "a3c49c8d-606b-4ce1-9b50-cfca50740527",
   "metadata": {},
   "source": [
    "## Q7. What do you understand about mutable and immutable data types? Give examples for both showing this property."
   ]
  },
  {
   "cell_type": "markdown",
   "id": "5b126da4-8469-4945-8f16-5018854dc703",
   "metadata": {},
   "source": [
    "# Sol : 7\n",
    "\n",
    "mutable objects can be modified in place, whereas immutable objects cannot be modified once they are created. This property has important implications for how we work with different types of objects in Python, particularly in terms of performance and memory usage.\n",
    "\n",
    "In this example, we have created a string s with the value \"Krish\". When we try to change the first  character of the string to lowercase using the assignment s[0] = \"h\", we get a TypeError because strings are immutable. Instead, we would have to create a new string with the desired modification, like this:"
   ]
  },
  {
   "cell_type": "code",
   "execution_count": null,
   "id": "f78fb241-d2a1-4940-ba2d-e8cf3ed0fc28",
   "metadata": {},
   "outputs": [],
   "source": []
  }
 ],
 "metadata": {
  "kernelspec": {
   "display_name": "Python 3 (ipykernel)",
   "language": "python",
   "name": "python3"
  },
  "language_info": {
   "codemirror_mode": {
    "name": "ipython",
    "version": 3
   },
   "file_extension": ".py",
   "mimetype": "text/x-python",
   "name": "python",
   "nbconvert_exporter": "python",
   "pygments_lexer": "ipython3",
   "version": "3.10.8"
  }
 },
 "nbformat": 4,
 "nbformat_minor": 5
}
